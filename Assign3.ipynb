{
 "cells": [
  {
   "cell_type": "code",
   "execution_count": 1,
   "id": "f7732853",
   "metadata": {},
   "outputs": [
    {
     "name": "stdout",
     "output_type": "stream",
     "text": [
      "Twinkle, twinkle, little star, \n",
      "         How I wonder what you are!\n",
      "                Up above the world so high,\n",
      "                Like a diamond in the sky.\n",
      "Twinkle, twinkle, little star,\n",
      "         How I wonder what you are\n"
     ]
    }
   ],
   "source": [
    "print('Twinkle, twinkle, little star, \\n         How I wonder what you are!\\n                Up above the world so high,\\n                Like a diamond in the sky.\\nTwinkle, twinkle, little star,\\n         How I wonder what you are')"
   ]
  },
  {
   "cell_type": "code",
   "execution_count": 2,
   "id": "708584f4",
   "metadata": {},
   "outputs": [
    {
     "name": "stdout",
     "output_type": "stream",
     "text": [
      "3.8.9 (tags/v3.8.9:a743f81, Apr  2 2021, 11:10:41) [MSC v.1928 64 bit (AMD64)]\n"
     ]
    }
   ],
   "source": [
    "import sys\n",
    "print(sys.version)"
   ]
  },
  {
   "cell_type": "code",
   "execution_count": 3,
   "id": "f0fe9605",
   "metadata": {},
   "outputs": [
    {
     "name": "stdout",
     "output_type": "stream",
     "text": [
      "date and time = 24/10/2021 17:27:29\n"
     ]
    }
   ],
   "source": [
    "from datetime import datetime\n",
    "now = datetime.now()\n",
    " \n",
    "dt_string = now.strftime(\"%d/%m/%Y %H:%M:%S\")\n",
    "print(\"date and time =\", dt_string)\t"
   ]
  },
  {
   "cell_type": "code",
   "execution_count": 4,
   "id": "2d1c6431",
   "metadata": {},
   "outputs": [
    {
     "name": "stdout",
     "output_type": "stream",
     "text": [
      "Enter Radius of Circle5\n",
      "Area of Circle is 78.53981633974483\n"
     ]
    }
   ],
   "source": [
    "import math\n",
    "radius =int(input('Enter Radius of Circle'))\n",
    "print('Area of Circle is',math.pi*(radius)**2)"
   ]
  },
  {
   "cell_type": "code",
   "execution_count": 5,
   "id": "acc5a3b6",
   "metadata": {},
   "outputs": [
    {
     "name": "stdout",
     "output_type": "stream",
     "text": [
      "Enter First Name John\n",
      "Enter Last Name  Smith\n",
      "htimS nhoJ\n"
     ]
    }
   ],
   "source": [
    "firstName = input('Enter First Name ')\n",
    "lastName = input('Enter Last Name ')\n",
    "fullName=firstName+lastName\n",
    "print(fullName[::-1])"
   ]
  },
  {
   "cell_type": "code",
   "execution_count": 6,
   "id": "cee83fd4",
   "metadata": {},
   "outputs": [
    {
     "name": "stdout",
     "output_type": "stream",
     "text": [
      "Enter First No 23\n",
      "Enter Second No 22\n",
      "Sum of two nos is 45\n"
     ]
    }
   ],
   "source": [
    "firstNo = int(input('Enter First No '))\n",
    "lastNo = int(input('Enter Second No '))\n",
    "print('Sum of two nos is',firstNo+lastNo)"
   ]
  },
  {
   "cell_type": "code",
   "execution_count": 7,
   "id": "ab6b0bf3",
   "metadata": {},
   "outputs": [
    {
     "name": "stdout",
     "output_type": "stream",
     "text": [
      "Enter Maths Marks 23\n",
      "Enter Physics Marks 43\n",
      "Enter Chemistry Marks 65\n",
      "Enter English Marks 77\n",
      "Enter Urdu Marks 34\n",
      "Subjects                 Marks\n",
      "1. Math                    23\n",
      "\n",
      "2. Physics                 43\n",
      "\n",
      "3. Chemistry               65\n",
      "\n",
      "4. English                 77\n",
      "\n",
      "5. Urdu                    34\n",
      "\n",
      "Total Out of 500 Marks     242\n",
      "\n",
      "Percentage                 48.4\n",
      "\n"
     ]
    }
   ],
   "source": [
    "math = int(input('Enter Maths Marks '))\n",
    "physics = int(input('Enter Physics Marks '))\n",
    "chemistry = int(input('Enter Chemistry Marks '))\n",
    "english = int(input('Enter English Marks '))\n",
    "urdu = int(input('Enter Urdu Marks '))\n",
    "\n",
    "sum = math+physics+english+urdu+chemistry\n",
    "percentage = (sum/500)*100\n",
    "\n",
    "print('Subjects                 Marks\\n1. Math                    '+str(math)+'\\n')\n",
    "print('2. Physics                 '+str(physics)+'\\n')\n",
    "print('3. Chemistry               '+str(chemistry)+'\\n')\n",
    "print('4. English                 '+str(english)+'\\n')\n",
    "print('5. Urdu                    '+str(urdu)+'\\n')\n",
    "print('Total Out of 500 Marks     '+str(sum)+'\\n')\n",
    "print('Percentage                 '+str(percentage)+'\\n')\n"
   ]
  },
  {
   "cell_type": "markdown",
   "id": "9e929f97",
   "metadata": {},
   "source": [
    "No = int(input('Enter Number '))\n",
    "if No%2 == 0:\n",
    "   print('Number is Even')\n",
    "else:\n",
    "   print('Number is Odd')\n"
   ]
  },
  {
   "cell_type": "code",
   "execution_count": 9,
   "id": "7f990217",
   "metadata": {},
   "outputs": [
    {
     "name": "stdout",
     "output_type": "stream",
     "text": [
      "Enter Number 23\n",
      "Number is Odd\n"
     ]
    }
   ],
   "source": [
    "No = int(input('Enter Number ')) \n",
    "if No%2 == 0: \n",
    "    print('Number is Even')\n",
    "else: \n",
    "    print('Number is Odd')"
   ]
  },
  {
   "cell_type": "code",
   "execution_count": 10,
   "id": "96b47fa3",
   "metadata": {},
   "outputs": [
    {
     "name": "stdout",
     "output_type": "stream",
     "text": [
      "5\n"
     ]
    }
   ],
   "source": [
    "list = ['apple','banana','orange','grapes','capricode']\n",
    "print(len(list))"
   ]
  },
  {
   "cell_type": "code",
   "execution_count": 13,
   "id": "d32f1fb5",
   "metadata": {},
   "outputs": [
    {
     "name": "stdout",
     "output_type": "stream",
     "text": [
      "Sum of Numeric No. in list is  57\n"
     ]
    }
   ],
   "source": [
    "list = [2,7,10,4,34]\n",
    "sum=0\n",
    "for i in list:\n",
    "    sum=sum+i\n",
    "        \n",
    "print('Sum of Numeric No. in list is ',sum)"
   ]
  },
  {
   "cell_type": "code",
   "execution_count": 15,
   "id": "b6b4084c",
   "metadata": {},
   "outputs": [
    {
     "name": "stdout",
     "output_type": "stream",
     "text": [
      "77\n"
     ]
    }
   ],
   "source": [
    "list = [2,77,10,4,34]\n",
    "greaterNo = None\n",
    "for i in list:\n",
    "    if i > greaterNo:\n",
    "        greaterNo=i\n",
    "print(greaterNo)"
   ]
  },
  {
   "cell_type": "code",
   "execution_count": 19,
   "id": "29a34418",
   "metadata": {},
   "outputs": [
    {
     "name": "stdout",
     "output_type": "stream",
     "text": [
      "[2, 4]\n"
     ]
    }
   ],
   "source": [
    "a = [1, 1, 2, 3, 5, 8, 13, 21, 34, 55, 89]\n",
    "lessNo = []\n",
    "for i in list:\n",
    "    print()\n",
    "    if i < 5:\n",
    "        lessNo.append(i)\n",
    "print(lessNo)"
   ]
  },
  {
   "cell_type": "code",
   "execution_count": null,
   "id": "8dd8c583",
   "metadata": {},
   "outputs": [],
   "source": []
  }
 ],
 "metadata": {
  "kernelspec": {
   "display_name": "Python 3",
   "language": "python",
   "name": "python3"
  },
  "language_info": {
   "codemirror_mode": {
    "name": "ipython",
    "version": 3
   },
   "file_extension": ".py",
   "mimetype": "text/x-python",
   "name": "python",
   "nbconvert_exporter": "python",
   "pygments_lexer": "ipython3",
   "version": "3.8.9"
  }
 },
 "nbformat": 4,
 "nbformat_minor": 5
}
